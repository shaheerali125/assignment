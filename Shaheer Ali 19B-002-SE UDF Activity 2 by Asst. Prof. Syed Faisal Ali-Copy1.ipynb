{
 "cells": [
  {
   "cell_type": "markdown",
   "metadata": {},
   "source": [
    "# Python User Define Function Practice Activity - 2 "
   ]
  },
  {
   "cell_type": "markdown",
   "metadata": {},
   "source": [
    "Asst. Prof. Syed Faisal Ali              $\\;\\;\\;\\;\\;\\;$              Programming Fundamentals - FALL 2019 $\\;\\;\\;\\;\\;\\;$ Software Engineering                     $\\;\\;\\;\\;\\;\\;$                   Dated: 27 Nov 2019"
   ]
  },
  {
   "cell_type": "markdown",
   "metadata": {},
   "source": [
    "Question 1: Create a function to find the following:\n",
    "If the base of triangle is 3 cm long and its equilateral triangle and the radius of circle is 1.5 cm then find the area of triangle shaded. \n"
   ]
  },
  {
   "cell_type": "markdown",
   "metadata": {},
   "source": [
    "![proj](q1.jpg)"
   ]
  },
  {
   "cell_type": "code",
   "execution_count": 47,
   "metadata": {},
   "outputs": [
    {
     "name": "stdout",
     "output_type": "stream",
     "text": [
      "the area of triangle shaded ingles: 16.314102431602805 cm**2\n"
     ]
    }
   ],
   "source": [
    "def area(r,s):\n",
    "    \n",
    "    import math\n",
    "    area_circle=math.pi*(r**2)\n",
    "    area_triangle=(((math.sqrt(3))/4)*s**2)*6\n",
    "    area_shaded=area_triangle-area_circle\n",
    "    print(\"the area of triangle shaded ingles:\",area_shaded,\"cm**2\")\n",
    "area(1.5,3)"
   ]
  },
  {
   "cell_type": "markdown",
   "metadata": {},
   "source": [
    "Question 3: Create a function to find the following:\n",
    "If the base of triangle is 5 cm long and its equilateral triangle and the radius of circle is 2.25 cm then find the area of triangle shaded. \n"
   ]
  },
  {
   "cell_type": "markdown",
   "metadata": {},
   "source": [
    "![proj](q3.jpg)"
   ]
  },
  {
   "cell_type": "code",
   "execution_count": 48,
   "metadata": {},
   "outputs": [
    {
     "name": "stdout",
     "output_type": "stream",
     "text": [
      "area of shaded area is: 15.904312808798327 cm**2\n"
     ]
    }
   ],
   "source": [
    "def area(r,b):\n",
    "    import math\n",
    "    area=(math.pi)*r**2\n",
    "    print(\"area of shaded area is:\",area,\"cm**2\")\n",
    "area(2.25,5)\n"
   ]
  },
  {
   "cell_type": "markdown",
   "metadata": {},
   "source": [
    "Question 4:\n",
    "Create a function that takes a list of random numbers from users and add only those which are even. If all the numbers are odd it will return sorry no even number found.\n"
   ]
  },
  {
   "cell_type": "code",
   "execution_count": 53,
   "metadata": {},
   "outputs": [
    {
     "name": "stdout",
     "output_type": "stream",
     "text": [
      "Sorry\n",
      "2\n",
      "Sorry\n",
      "4\n",
      "Sorry\n",
      "6\n",
      "Sorry\n",
      "8\n",
      "Sorry\n",
      "10\n",
      "Sorry\n",
      "12\n",
      "Sorry\n",
      "14\n",
      "Sorry\n",
      "16\n",
      "Sorry\n",
      "18\n",
      "Sorry\n",
      "20\n",
      "Sorry\n",
      "22\n",
      "Sorry\n",
      "24\n",
      "Sorry\n",
      "26\n",
      "Sorry\n",
      "28\n",
      "Sorry\n",
      "30\n",
      "Sorry\n",
      "32\n",
      "Sorry\n",
      "34\n",
      "Sorry\n",
      "36\n",
      "Sorry\n",
      "38\n",
      "Sorry\n",
      "40\n",
      "Sorry\n",
      "42\n",
      "Sorry\n",
      "44\n",
      "Sorry\n",
      "46\n",
      "Sorry\n",
      "48\n",
      "Sorry\n",
      "50\n",
      "Sorry\n",
      "52\n",
      "Sorry\n",
      "54\n",
      "Sorry\n",
      "56\n",
      "Sorry\n",
      "58\n",
      "Sorry\n"
     ]
    }
   ],
   "source": [
    "def evenodd(i,f):\n",
    "    \n",
    "    r=range(i,f)\n",
    "    for i in r:\n",
    "        SUM=0\n",
    "        if (i%2)==0:\n",
    "            Sum=SUM+i\n",
    "            print(Sum)\n",
    "        elif i%2!=0:\n",
    "            print(\"Sorry\")\n",
    "evenodd(1,60)"
   ]
  },
  {
   "cell_type": "markdown",
   "metadata": {},
   "source": [
    "Question 5:\n",
    "Write a function which can take a list of numbers and it will return sorted list.\n"
   ]
  },
  {
   "cell_type": "code",
   "execution_count": 22,
   "metadata": {},
   "outputs": [
    {
     "name": "stdout",
     "output_type": "stream",
     "text": [
      "[0, 1, 2, 3, 3, 7, 78]\n"
     ]
    }
   ],
   "source": [
    "def sort():\n",
    "    list=[1,2,3,7,0,3,78]\n",
    "    result=list.sort()\n",
    "    print(list)\n",
    "sort()"
   ]
  },
  {
   "cell_type": "markdown",
   "metadata": {},
   "source": [
    "Question 6:\n",
    "Write a function that will take the radius and return the perimeter and area of circle with 5% increment.\n"
   ]
  },
  {
   "cell_type": "code",
   "execution_count": 56,
   "metadata": {},
   "outputs": [
    {
     "name": "stdout",
     "output_type": "stream",
     "text": [
      "50.31548245743669 cm**2\n"
     ]
    }
   ],
   "source": [
    "def area(r):\n",
    "    import math\n",
    "    p=((2*math.pi)*r)+5/100\n",
    "    print(p,\"cm**2\")\n",
    "area(8)"
   ]
  },
  {
   "cell_type": "markdown",
   "metadata": {},
   "source": [
    "Question 7:\n",
    "Write a function that will take the strings as argument and return number of vowels and consonants.\n"
   ]
  },
  {
   "cell_type": "code",
   "execution_count": 60,
   "metadata": {},
   "outputs": [
    {
     "name": "stdout",
     "output_type": "stream",
     "text": [
      "the number of consonants are: 1\n",
      "the number of vowels are: 1\n",
      "the number of consonants are: 1\n",
      "the number of vowels are: 1\n",
      "the number of consonants are: 1\n",
      "the number of consonants are: 1\n",
      "the number of vowels are: 1\n",
      "the number of consonants are: 1\n"
     ]
    }
   ],
   "source": [
    "def count():\n",
    "    name=\"pakistan\"\n",
    "    for i in name:\n",
    "        if(i=='a' or i=='e' or i=='i' or i=='o' or i=='u'):\n",
    "            numbers=0\n",
    "            vowels=numbers+1\n",
    "            print('the number of vowels are:',vowels)\n",
    "        else:\n",
    "            numbers=0\n",
    "            consonants=numbers+1\n",
    "            print('the number of consonants are:',consonants)\n",
    "count()"
   ]
  },
  {
   "cell_type": "markdown",
   "metadata": {},
   "source": [
    "Question 8:\n",
    "Write a function that will take length and breadth for a rectangle and return perimeter and area of rectangle with 8% increment.\n"
   ]
  },
  {
   "cell_type": "code",
   "execution_count": 62,
   "metadata": {},
   "outputs": [
    {
     "name": "stdout",
     "output_type": "stream",
     "text": [
      "area of rectangle is: 300\n",
      "perimeter of rectangle is: 70\n"
     ]
    }
   ],
   "source": [
    "def rectangle():\n",
    "    width=(15)\n",
    "    height=(20)\n",
    "    area=width*height\n",
    "    perimeter=2*(width+height)\n",
    "    \n",
    "    print(\"area of rectangle is:\",area)\n",
    "    print(\"perimeter of rectangle is:\",perimeter)\n",
    "rectangle()\n",
    "    "
   ]
  },
  {
   "cell_type": "markdown",
   "metadata": {},
   "source": [
    "Question 9:\n",
    "Write a function that can take the numbers in strings. From string find which number is even and which one is odd. Save them in two different lists and generate the result.\n"
   ]
  },
  {
   "cell_type": "code",
   "execution_count": 29,
   "metadata": {},
   "outputs": [
    {
     "name": "stdout",
     "output_type": "stream",
     "text": [
      "Even lists: [2, 88, 456, 56, 98, 34, 24]\n",
      "Odd lists: [1, 97, 67, 89]\n"
     ]
    }
   ],
   "source": [
    "def Split(x): \n",
    "    ev_li = [] \n",
    "    od_li = [] \n",
    "    for i in x: \n",
    "        if (i % 2 == 0): \n",
    "            ev_li.append(i) \n",
    "        else: \n",
    "            od_li.append(i) \n",
    "    print(\"Even lists:\", ev_li) \n",
    "    print(\"Odd lists:\", od_li) \n",
    "  \n",
    "\n",
    "x = [1,2,88,97,456,56,98,34,24,67,89] \n",
    "Split(x) "
   ]
  },
  {
   "cell_type": "markdown",
   "metadata": {},
   "source": [
    "Question 11:\n",
    "Write a function that will take verbs in words and return a list of verbs with continuous tense by adding (ing) at the end of each verb.\n"
   ]
  },
  {
   "cell_type": "code",
   "execution_count": 66,
   "metadata": {},
   "outputs": [
    {
     "name": "stdout",
     "output_type": "stream",
     "text": [
      "('smelling', 'going', 'saying')\n"
     ]
    }
   ],
   "source": [
    "def continous(a,b,c):\n",
    "    cont1=a + \"ing\"\n",
    "    cont2=b + \"ing\"\n",
    "    cont3=c + \"ing\"\n",
    "    lst=cont1,cont2,cont3\n",
    "    print(lst)\n",
    "continous('smell','go','say')"
   ]
  },
  {
   "cell_type": "markdown",
   "metadata": {},
   "source": [
    "Question 12:\n",
    "Make a function which can take two radius of circles and find the areas of it and subtract smaller one from larger one and tell the remaining area of circle.\n"
   ]
  },
  {
   "cell_type": "code",
   "execution_count": 68,
   "metadata": {},
   "outputs": [
    {
     "name": "stdout",
     "output_type": "stream",
     "text": [
      "75.39822368615502 m**2\n"
     ]
    }
   ],
   "source": [
    "def area():\n",
    "    radius_1=5\n",
    "    radius_2=7\n",
    "    import math\n",
    "    a1=(math.pi)*radius_1**2\n",
    "    a2=(math.pi)*radius_2**2\n",
    "    if a1>a2:\n",
    "        at=a1-a2\n",
    "        print(at,\"m**2\")\n",
    "    else:\n",
    "        at=a2-a1\n",
    "        print(at,\"m**2\")\n",
    "area()\n"
   ]
  },
  {
   "cell_type": "markdown",
   "metadata": {},
   "source": [
    "Question 14:\n",
    "Write a function which will take length and breadth of two rectangles. Subtract the smaller rectangle from the larger rectangle and return the area left behind.\n"
   ]
  },
  {
   "cell_type": "code",
   "execution_count": 70,
   "metadata": {},
   "outputs": [
    {
     "name": "stdout",
     "output_type": "stream",
     "text": [
      "23 m**2\n"
     ]
    }
   ],
   "source": [
    "def area():\n",
    "    l1=4\n",
    "    b1=3\n",
    "    l2=5\n",
    "    b2=7\n",
    "    import math\n",
    "    a1=l1*b1\n",
    "    a2=l2*b2\n",
    "    if a1>a2:\n",
    "        at=a1-a2\n",
    "        print(at,\"m**2\")\n",
    "    else:\n",
    "        at=a2-a1\n",
    "        print(at,\"m**2\")\n",
    "area()\n"
   ]
  },
  {
   "cell_type": "markdown",
   "metadata": {},
   "source": [
    "Question 15:\n",
    "Create a function that can add the fractions in series such as 1 to 8 = 1/8+1/7+1/6+1/5 …… ½ and return the result in fraction not in decimal.\n"
   ]
  },
  {
   "cell_type": "code",
   "execution_count": 71,
   "metadata": {},
   "outputs": [
    {
     "name": "stdout",
     "output_type": "stream",
     "text": [
      "25/12\n"
     ]
    }
   ],
   "source": [
    "def addf():\n",
    "    from fractions import Fraction\n",
    "    sum = 0\n",
    "    for i in range(1,5):\n",
    "        sum = sum + Fraction(1,i) \n",
    "        \n",
    "    print(sum)\n",
    "addf()"
   ]
  },
  {
   "cell_type": "markdown",
   "metadata": {},
   "source": [
    "Question 16:\n",
    "Write a function which will take height and base for a triangle and \n"
   ]
  },
  {
   "cell_type": "code",
   "execution_count": 73,
   "metadata": {},
   "outputs": [
    {
     "name": "stdout",
     "output_type": "stream",
     "text": [
      "Input the base : 5\n",
      "Input the height : 8\n",
      "area =  20.0\n"
     ]
    }
   ],
   "source": [
    "def baseheight():\n",
    "    b = int(input(\"Input the base : \"))\n",
    "    h = int(input(\"Input the height : \"))\n",
    "\n",
    "    area = b*h/2\n",
    "\n",
    "    print(\"area = \", area)\n",
    "baseheight()"
   ]
  },
  {
   "cell_type": "markdown",
   "metadata": {},
   "source": [
    "Question 18:\n",
    "Write a function that can take square length and radius of circle. Find the area of both and subtract the smallest shape from largest one and return the remaining shape area.\n"
   ]
  },
  {
   "cell_type": "code",
   "execution_count": 63,
   "metadata": {},
   "outputs": [
    {
     "name": "stdout",
     "output_type": "stream",
     "text": [
      "344.132711084365 m**2\n"
     ]
    }
   ],
   "source": [
    "def area(l,r):\n",
    "    import math\n",
    "    a1=(math.pi)*r**2\n",
    "    a2=l**2\n",
    "    if a1>a2:\n",
    "        at=a1-a2\n",
    "        print(at,\"m**2\")\n",
    "    else:\n",
    "        at=a2-a1\n",
    "        print(at,\"m**2\")\n",
    "area(6,11)\n"
   ]
  }
 ],
 "metadata": {
  "kernelspec": {
   "display_name": "Python 3",
   "language": "python",
   "name": "python3"
  },
  "language_info": {
   "codemirror_mode": {
    "name": "ipython",
    "version": 3
   },
   "file_extension": ".py",
   "mimetype": "text/x-python",
   "name": "python",
   "nbconvert_exporter": "python",
   "pygments_lexer": "ipython3",
   "version": "3.7.3"
  }
 },
 "nbformat": 4,
 "nbformat_minor": 2
}
